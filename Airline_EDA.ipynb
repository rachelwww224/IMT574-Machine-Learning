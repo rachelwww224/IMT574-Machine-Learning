{
 "cells": [
  {
   "cell_type": "markdown",
   "metadata": {},
   "source": [
    "## Problem Set 1, due January 17th at 11:59pm \n",
    "\n",
    "\n",
    "#### Before You Start\n",
    "For this problem set, you should download the flights.zip dataset from Canvas. Create a local copy of the notebook and rename it LASTNAME_FIRSTNAME-PS1.ipynb. Then edit your renamed file directly in your browser. You should also make sure the following libraries load correctly."
   ]
  },
  {
   "cell_type": "code",
   "execution_count": 5,
   "metadata": {},
   "outputs": [
    {
     "name": "stdout",
     "output_type": "stream",
     "text": [
      "Your numpy version: 1.20.3 (need at least 1.7.1)\n",
      "Your SciPy version:  1.7.1 (need at least 0.12.0)\n",
      "Your Pandas version:  1.3.4 (need at least 0.11.0)\n",
      "Your Mapltolib version:  3.5.0 (need at least 1.2.1)\n",
      "Your Scikit-Learn version:  1.0.1 (need at least 0.13.1)\n"
     ]
    }
   ],
   "source": [
    "# Numpy is a library for working with Arrays\n",
    "import numpy as np\n",
    "print (\"Your numpy version: %6.6s (need at least 1.7.1)\" % np.__version__)\n",
    "\n",
    "# SciPy implements many different numerical algorithms\n",
    "import scipy as sp\n",
    "print (\"Your SciPy version: %6.6s (need at least 0.12.0)\" % sp.__version__)\n",
    "\n",
    "# Pandas makes working with data tables easier\n",
    "import pandas as pd\n",
    "print (\"Your Pandas version: %6.6s (need at least 0.11.0)\" % pd.__version__)\n",
    "\n",
    "# Module for plotting\n",
    "import matplotlib\n",
    "print (\"Your Mapltolib version: %6.6s (need at least 1.2.1)\" % matplotlib.__version__)\n",
    "\n",
    "# SciKit Learn implements several Machine Learning algorithms\n",
    "import sklearn\n",
    "print (\"Your Scikit-Learn version: %6.6s (need at least 0.13.1)\" % sklearn.__version__)"
   ]
  },
  {
   "cell_type": "markdown",
   "metadata": {},
   "source": [
    "#### Instructions: \n",
    " \n",
    "In this problem set you will perform a basic exploratory analysis on an example dataset, bringing to bear all of your new skills in data manipulation and visualization. You will be required to submit well commented python code, documenting all code used in this problem set, along with a write up answering all questions below. Use figures as appropriate to support your answers, and when required by the problem. \n",
    "\n",
    "This data set uses the NYCFlights13 dataset. You can download the dataset from flights data that you downloaded from canvas (flights.zip).\n",
    "\n",
    "Selected questions ask you to answer in multiple ways. Make sure to provide different functions or ways for answering the same question. This will help you see that most data questions can be answered in different ways even with the same software language."
   ]
  },
  {
   "cell_type": "code",
   "execution_count": 6,
   "metadata": {},
   "outputs": [],
   "source": [
    "import pandas as pd\n",
    "import numpy as np\n",
    "import matplotlib.pyplot as plt"
   ]
  },
  {
   "cell_type": "code",
   "execution_count": 10,
   "metadata": {},
   "outputs": [],
   "source": [
    "flights_df= pd.read_csv('/Users/ruizhewang/Downloads/flights.csv')"
   ]
  },
  {
   "cell_type": "code",
   "execution_count": 11,
   "metadata": {},
   "outputs": [
    {
     "name": "stdout",
     "output_type": "stream",
     "text": [
      "(336776, 17)\n",
      "Index(['Unnamed: 0', 'year', 'month', 'day', 'dep_time', 'dep_delay',\n",
      "       'arr_time', 'arr_delay', 'carrier', 'tailnum', 'flight', 'origin',\n",
      "       'dest', 'air_time', 'distance', 'hour', 'minute'],\n",
      "      dtype='object')\n",
      "Unnamed: 0      int64\n",
      "year            int64\n",
      "month           int64\n",
      "day             int64\n",
      "dep_time      float64\n",
      "dep_delay     float64\n",
      "arr_time      float64\n",
      "arr_delay     float64\n",
      "carrier        object\n",
      "tailnum        object\n",
      "flight          int64\n",
      "origin         object\n",
      "dest           object\n",
      "air_time      float64\n",
      "distance        int64\n",
      "hour          float64\n",
      "minute        float64\n",
      "dtype: object\n"
     ]
    }
   ],
   "source": [
    "# Let's start by looking at some of the structural attributes of the dataset\n",
    "\n",
    "print (flights_df.shape)   # rows and columns\n",
    "print (flights_df.columns) # column names\n",
    "print (flights_df.dtypes)  # data types of each column"
   ]
  },
  {
   "cell_type": "code",
   "execution_count": 52,
   "metadata": {},
   "outputs": [
    {
     "name": "stdout",
     "output_type": "stream",
     "text": [
      "['IAH' 'MIA' 'BQN' 'ATL' 'ORD' 'FLL' 'IAD' 'MCO' 'PBI' 'TPA' 'LAX' 'SFO'\n",
      " 'DFW' 'BOS' 'LAS' 'MSP' 'DTW' 'RSW' 'SJU' 'PHX' 'BWI' 'CLT' 'BUF' 'DEN'\n",
      " 'SNA' 'MSY' 'SLC' 'XNA' 'MKE' 'SEA' 'ROC' 'SYR' 'SRQ' 'RDU' 'CMH' 'JAX'\n",
      " 'CHS' 'MEM' 'PIT' 'SAN' 'DCA' 'CLE' 'STL' 'MYR' 'JAC' 'MDW' 'HNL' 'BNA'\n",
      " 'AUS' 'BTV' 'PHL' 'STT' 'EGE' 'AVL' 'PWM' 'IND' 'SAV' 'CAK' 'HOU' 'LGB'\n",
      " 'DAY' 'ALB' 'BDL' 'MHT' 'MSN' 'GSO' 'CVG' 'BUR' 'RIC' 'GSP' 'GRR' 'MCI'\n",
      " 'ORF' 'SAT' 'SDF' 'PDX' 'SJC' 'OMA' 'CRW' 'OAK' 'SMF' 'TUL' 'TYS' 'OKC'\n",
      " 'PVD' 'DSM' 'PSE' 'BHM' 'CAE' 'HDN' 'BZN' 'MTJ' 'EYW' 'PSP' 'ACK' 'BGR'\n",
      " 'ABQ' 'ILM' 'MVY' 'SBN' 'LEX' 'CHO' 'TVC' 'ANC' 'LGA']\n"
     ]
    },
    {
     "data": {
      "text/html": [
       "<div>\n",
       "<style scoped>\n",
       "    .dataframe tbody tr th:only-of-type {\n",
       "        vertical-align: middle;\n",
       "    }\n",
       "\n",
       "    .dataframe tbody tr th {\n",
       "        vertical-align: top;\n",
       "    }\n",
       "\n",
       "    .dataframe thead th {\n",
       "        text-align: right;\n",
       "    }\n",
       "</style>\n",
       "<table border=\"1\" class=\"dataframe\">\n",
       "  <thead>\n",
       "    <tr style=\"text-align: right;\">\n",
       "      <th></th>\n",
       "      <th>Unnamed: 0</th>\n",
       "      <th>year</th>\n",
       "      <th>month</th>\n",
       "      <th>day</th>\n",
       "      <th>dep_time</th>\n",
       "      <th>dep_delay</th>\n",
       "      <th>arr_time</th>\n",
       "      <th>arr_delay</th>\n",
       "      <th>carrier</th>\n",
       "      <th>tailnum</th>\n",
       "      <th>flight</th>\n",
       "      <th>origin</th>\n",
       "      <th>dest</th>\n",
       "      <th>air_time</th>\n",
       "      <th>distance</th>\n",
       "      <th>hour</th>\n",
       "      <th>minute</th>\n",
       "    </tr>\n",
       "  </thead>\n",
       "  <tbody>\n",
       "    <tr>\n",
       "      <th>0</th>\n",
       "      <td>1</td>\n",
       "      <td>2013</td>\n",
       "      <td>1</td>\n",
       "      <td>1</td>\n",
       "      <td>517.0</td>\n",
       "      <td>2.0</td>\n",
       "      <td>830.0</td>\n",
       "      <td>11.0</td>\n",
       "      <td>UA</td>\n",
       "      <td>N14228</td>\n",
       "      <td>1545</td>\n",
       "      <td>EWR</td>\n",
       "      <td>IAH</td>\n",
       "      <td>227.0</td>\n",
       "      <td>1400</td>\n",
       "      <td>5.0</td>\n",
       "      <td>17.0</td>\n",
       "    </tr>\n",
       "    <tr>\n",
       "      <th>1</th>\n",
       "      <td>2</td>\n",
       "      <td>2013</td>\n",
       "      <td>1</td>\n",
       "      <td>1</td>\n",
       "      <td>533.0</td>\n",
       "      <td>4.0</td>\n",
       "      <td>850.0</td>\n",
       "      <td>20.0</td>\n",
       "      <td>UA</td>\n",
       "      <td>N24211</td>\n",
       "      <td>1714</td>\n",
       "      <td>LGA</td>\n",
       "      <td>IAH</td>\n",
       "      <td>227.0</td>\n",
       "      <td>1416</td>\n",
       "      <td>5.0</td>\n",
       "      <td>33.0</td>\n",
       "    </tr>\n",
       "    <tr>\n",
       "      <th>2</th>\n",
       "      <td>3</td>\n",
       "      <td>2013</td>\n",
       "      <td>1</td>\n",
       "      <td>1</td>\n",
       "      <td>542.0</td>\n",
       "      <td>2.0</td>\n",
       "      <td>923.0</td>\n",
       "      <td>33.0</td>\n",
       "      <td>AA</td>\n",
       "      <td>N619AA</td>\n",
       "      <td>1141</td>\n",
       "      <td>JFK</td>\n",
       "      <td>MIA</td>\n",
       "      <td>160.0</td>\n",
       "      <td>1089</td>\n",
       "      <td>5.0</td>\n",
       "      <td>42.0</td>\n",
       "    </tr>\n",
       "    <tr>\n",
       "      <th>3</th>\n",
       "      <td>4</td>\n",
       "      <td>2013</td>\n",
       "      <td>1</td>\n",
       "      <td>1</td>\n",
       "      <td>544.0</td>\n",
       "      <td>-1.0</td>\n",
       "      <td>1004.0</td>\n",
       "      <td>-18.0</td>\n",
       "      <td>B6</td>\n",
       "      <td>N804JB</td>\n",
       "      <td>725</td>\n",
       "      <td>JFK</td>\n",
       "      <td>BQN</td>\n",
       "      <td>183.0</td>\n",
       "      <td>1576</td>\n",
       "      <td>5.0</td>\n",
       "      <td>44.0</td>\n",
       "    </tr>\n",
       "    <tr>\n",
       "      <th>4</th>\n",
       "      <td>5</td>\n",
       "      <td>2013</td>\n",
       "      <td>1</td>\n",
       "      <td>1</td>\n",
       "      <td>554.0</td>\n",
       "      <td>-6.0</td>\n",
       "      <td>812.0</td>\n",
       "      <td>-25.0</td>\n",
       "      <td>DL</td>\n",
       "      <td>N668DN</td>\n",
       "      <td>461</td>\n",
       "      <td>LGA</td>\n",
       "      <td>ATL</td>\n",
       "      <td>116.0</td>\n",
       "      <td>762</td>\n",
       "      <td>5.0</td>\n",
       "      <td>54.0</td>\n",
       "    </tr>\n",
       "    <tr>\n",
       "      <th>5</th>\n",
       "      <td>6</td>\n",
       "      <td>2013</td>\n",
       "      <td>1</td>\n",
       "      <td>1</td>\n",
       "      <td>554.0</td>\n",
       "      <td>-4.0</td>\n",
       "      <td>740.0</td>\n",
       "      <td>12.0</td>\n",
       "      <td>UA</td>\n",
       "      <td>N39463</td>\n",
       "      <td>1696</td>\n",
       "      <td>EWR</td>\n",
       "      <td>ORD</td>\n",
       "      <td>150.0</td>\n",
       "      <td>719</td>\n",
       "      <td>5.0</td>\n",
       "      <td>54.0</td>\n",
       "    </tr>\n",
       "    <tr>\n",
       "      <th>6</th>\n",
       "      <td>7</td>\n",
       "      <td>2013</td>\n",
       "      <td>1</td>\n",
       "      <td>1</td>\n",
       "      <td>555.0</td>\n",
       "      <td>-5.0</td>\n",
       "      <td>913.0</td>\n",
       "      <td>19.0</td>\n",
       "      <td>B6</td>\n",
       "      <td>N516JB</td>\n",
       "      <td>507</td>\n",
       "      <td>EWR</td>\n",
       "      <td>FLL</td>\n",
       "      <td>158.0</td>\n",
       "      <td>1065</td>\n",
       "      <td>5.0</td>\n",
       "      <td>55.0</td>\n",
       "    </tr>\n",
       "    <tr>\n",
       "      <th>7</th>\n",
       "      <td>8</td>\n",
       "      <td>2013</td>\n",
       "      <td>1</td>\n",
       "      <td>1</td>\n",
       "      <td>557.0</td>\n",
       "      <td>-3.0</td>\n",
       "      <td>709.0</td>\n",
       "      <td>-14.0</td>\n",
       "      <td>EV</td>\n",
       "      <td>N829AS</td>\n",
       "      <td>5708</td>\n",
       "      <td>LGA</td>\n",
       "      <td>IAD</td>\n",
       "      <td>53.0</td>\n",
       "      <td>229</td>\n",
       "      <td>5.0</td>\n",
       "      <td>57.0</td>\n",
       "    </tr>\n",
       "    <tr>\n",
       "      <th>8</th>\n",
       "      <td>9</td>\n",
       "      <td>2013</td>\n",
       "      <td>1</td>\n",
       "      <td>1</td>\n",
       "      <td>557.0</td>\n",
       "      <td>-3.0</td>\n",
       "      <td>838.0</td>\n",
       "      <td>-8.0</td>\n",
       "      <td>B6</td>\n",
       "      <td>N593JB</td>\n",
       "      <td>79</td>\n",
       "      <td>JFK</td>\n",
       "      <td>MCO</td>\n",
       "      <td>140.0</td>\n",
       "      <td>944</td>\n",
       "      <td>5.0</td>\n",
       "      <td>57.0</td>\n",
       "    </tr>\n",
       "    <tr>\n",
       "      <th>9</th>\n",
       "      <td>10</td>\n",
       "      <td>2013</td>\n",
       "      <td>1</td>\n",
       "      <td>1</td>\n",
       "      <td>558.0</td>\n",
       "      <td>-2.0</td>\n",
       "      <td>753.0</td>\n",
       "      <td>8.0</td>\n",
       "      <td>AA</td>\n",
       "      <td>N3ALAA</td>\n",
       "      <td>301</td>\n",
       "      <td>LGA</td>\n",
       "      <td>ORD</td>\n",
       "      <td>138.0</td>\n",
       "      <td>733</td>\n",
       "      <td>5.0</td>\n",
       "      <td>58.0</td>\n",
       "    </tr>\n",
       "  </tbody>\n",
       "</table>\n",
       "</div>"
      ],
      "text/plain": [
       "   Unnamed: 0  year  month  day  dep_time  dep_delay  arr_time  arr_delay  \\\n",
       "0           1  2013      1    1     517.0        2.0     830.0       11.0   \n",
       "1           2  2013      1    1     533.0        4.0     850.0       20.0   \n",
       "2           3  2013      1    1     542.0        2.0     923.0       33.0   \n",
       "3           4  2013      1    1     544.0       -1.0    1004.0      -18.0   \n",
       "4           5  2013      1    1     554.0       -6.0     812.0      -25.0   \n",
       "5           6  2013      1    1     554.0       -4.0     740.0       12.0   \n",
       "6           7  2013      1    1     555.0       -5.0     913.0       19.0   \n",
       "7           8  2013      1    1     557.0       -3.0     709.0      -14.0   \n",
       "8           9  2013      1    1     557.0       -3.0     838.0       -8.0   \n",
       "9          10  2013      1    1     558.0       -2.0     753.0        8.0   \n",
       "\n",
       "  carrier tailnum  flight origin dest  air_time  distance  hour  minute  \n",
       "0      UA  N14228    1545    EWR  IAH     227.0      1400   5.0    17.0  \n",
       "1      UA  N24211    1714    LGA  IAH     227.0      1416   5.0    33.0  \n",
       "2      AA  N619AA    1141    JFK  MIA     160.0      1089   5.0    42.0  \n",
       "3      B6  N804JB     725    JFK  BQN     183.0      1576   5.0    44.0  \n",
       "4      DL  N668DN     461    LGA  ATL     116.0       762   5.0    54.0  \n",
       "5      UA  N39463    1696    EWR  ORD     150.0       719   5.0    54.0  \n",
       "6      B6  N516JB     507    EWR  FLL     158.0      1065   5.0    55.0  \n",
       "7      EV  N829AS    5708    LGA  IAD      53.0       229   5.0    57.0  \n",
       "8      B6  N593JB      79    JFK  MCO     140.0       944   5.0    57.0  \n",
       "9      AA  N3ALAA     301    LGA  ORD     138.0       733   5.0    58.0  "
      ]
     },
     "execution_count": 52,
     "metadata": {},
     "output_type": "execute_result"
    }
   ],
   "source": [
    "# Let's look at the unique destinations of the flights in the data \n",
    "\n",
    "a = flights_df.dest.unique()\n",
    "print(a)\n",
    "\n",
    "# Let's now look at the top ten rows to get a sense of the data\n",
    "flights_df.head(10)\n"
   ]
  },
  {
   "cell_type": "markdown",
   "metadata": {},
   "source": [
    "#### Some Tips\n",
    "\n",
    "* This assignment involves extensive Data frame splitting and aggregation. You should look into the details of the methods groupby, transform, sum, count, mean etc.\n",
    "\n",
    "* Many of the tasks in the assignment can be done either through the Pandas Data Frame or by converting the data frames to Series. Many of the methods in the numpy are applicable to Series only. When stuck, try to explore the type of object (Pandas Data Frame or Numpy Series) you are dealing with."
   ]
  },
  {
   "cell_type": "markdown",
   "metadata": {},
   "source": [
    "#### Question 1\n",
    "Let’s explore flights from NYC to Seattle. Use the flights dataset to answer the following questions.\n",
    "\n",
    "(a) How many flights were there from NYC airports to Seattle in 2013?"
   ]
  },
  {
   "cell_type": "code",
   "execution_count": 14,
   "metadata": {},
   "outputs": [
    {
     "data": {
      "text/plain": [
       "3923"
      ]
     },
     "execution_count": 14,
     "metadata": {},
     "output_type": "execute_result"
    }
   ],
   "source": [
    "# Your code here\n",
    "#filter the flights to seattle\n",
    "flights_df1 = flights_df[flights_df.dest=='SEA']\n",
    "\n",
    "#get the number of rows of the df\n",
    "flights_df1.shape[0]"
   ]
  },
  {
   "cell_type": "markdown",
   "metadata": {},
   "source": [
    "3923 flights flew from NYC to Seattle in 2013. "
   ]
  },
  {
   "cell_type": "markdown",
   "metadata": {},
   "source": [
    "(b) How many airlines fly from JFK to Seattle?"
   ]
  },
  {
   "cell_type": "code",
   "execution_count": 188,
   "metadata": {},
   "outputs": [
    {
     "data": {
      "text/plain": [
       "3"
      ]
     },
     "execution_count": 188,
     "metadata": {},
     "output_type": "execute_result"
    }
   ],
   "source": [
    "# Your code here\n",
    "#filter the flights to seattle and from JFK\n",
    "flights_df2 = flights_df[(flights_df.dest=='SEA')& (flights_df.origin == 'JFK')]\n",
    "\n",
    "#get the number of carriers\n",
    "len(flights_df2.carrier.unique())"
   ]
  },
  {
   "cell_type": "markdown",
   "metadata": {},
   "source": [
    "3 airlines flew from JFK to Seattle. "
   ]
  },
  {
   "cell_type": "markdown",
   "metadata": {},
   "source": [
    "(c) How many unique air planes fly from JFK to Seattle?"
   ]
  },
  {
   "cell_type": "code",
   "execution_count": 19,
   "metadata": {},
   "outputs": [
    {
     "data": {
      "text/plain": [
       "464"
      ]
     },
     "execution_count": 19,
     "metadata": {},
     "output_type": "execute_result"
    }
   ],
   "source": [
    "# Your code here\n",
    "#get the unique number of airplanes fly from JFK to Seattle\n",
    "len(flights_df2.tailnum.unique())"
   ]
  },
  {
   "cell_type": "markdown",
   "metadata": {},
   "source": [
    "464 unique air planes fly from JFK to Seattle. "
   ]
  },
  {
   "cell_type": "markdown",
   "metadata": {},
   "source": [
    "(d) What is the average arrival delay for flights from JFK to Seattle?"
   ]
  },
  {
   "cell_type": "code",
   "execution_count": 22,
   "metadata": {},
   "outputs": [
    {
     "data": {
      "text/plain": [
       "-1.7566265060240964"
      ]
     },
     "execution_count": 22,
     "metadata": {},
     "output_type": "execute_result"
    }
   ],
   "source": [
    "# Your code here\n",
    "#calculate the average arrival delay and skip the NA values\n",
    "flights_df2.arr_delay.mean(skipna= True)"
   ]
  },
  {
   "cell_type": "markdown",
   "metadata": {},
   "source": [
    "The average arrival delay for flights from JFK to Seattle is approximately -1.76 minutes. "
   ]
  },
  {
   "cell_type": "markdown",
   "metadata": {},
   "source": [
    "(e) What proportion of flights to Seattle come from each NYC airport? Provide multiple ways of answering the question."
   ]
  },
  {
   "cell_type": "code",
   "execution_count": 51,
   "metadata": {},
   "outputs": [
    {
     "name": "stdout",
     "output_type": "stream",
     "text": [
      "origin\n",
      "EWR    0.466735\n",
      "JFK    0.533265\n",
      "Name: Unnamed: 0, dtype: float64\n",
      "origin\n",
      "EWR    0.466735\n",
      "JFK    0.533265\n",
      "Name: Unnamed: 0, dtype: float64\n"
     ]
    }
   ],
   "source": [
    "# Your code here\n",
    "\n",
    "#Approch 1\n",
    "\n",
    "#get the number of flights from NYC airport to Seattle group by each airport code\n",
    "#calculate the proportion \n",
    "proportion= flights_df1.groupby('origin')['Unnamed: 0'].count()/len(flights_df1)\n",
    "\n",
    "print(proportion)\n",
    "\n",
    "#Approch 2\n",
    "\n",
    "#group the df by origin and use aggregate function to calculate the number of flights within each group\n",
    "proportion2= flights_df1.groupby('origin').agg(\n",
    "    {'Unnamed: 0': \"count\"    \n",
    "    })\n",
    "#calculate the proportion\n",
    "proportion2= proportion2.iloc[:,0]/len(flights_df1)\n",
    "\n",
    "print(proportion2)"
   ]
  },
  {
   "cell_type": "markdown",
   "metadata": {},
   "source": [
    "Approximately 46.67% of the flights from EWR flew to Seattle and approximately 53.32% of the flights from JFK flew to Seattle. "
   ]
  },
  {
   "cell_type": "markdown",
   "metadata": {},
   "source": [
    "## Question 2\n",
    "Flights are often delayed. Consider the following questions exploring delay patterns.\n",
    "\n",
    "(a) Which date has the largest average departure delay? Which date has the largest average arrival delay?"
   ]
  },
  {
   "cell_type": "code",
   "execution_count": 73,
   "metadata": {},
   "outputs": [
    {
     "name": "stdout",
     "output_type": "stream",
     "text": [
      "2013-03-08 00:00:00\n",
      "2013-03-08 00:00:00\n"
     ]
    }
   ],
   "source": [
    "# Your code here\n",
    "\n",
    "#convert the year, month, day columns to a singe date column\n",
    "flights_df['date']= pd.to_datetime(flights_df[[\"year\", \"month\", \"day\"]])\n",
    "\n",
    "#group the df by date and use agg to calculate the mean for dep_delay and arr_delay within each group\n",
    "#save the output as delay \n",
    "delay= flights_df.groupby('date').agg({\n",
    "    'dep_delay':'mean',\n",
    "    'arr_delay':'mean'\n",
    "})\n",
    "\n",
    "print(delay.arr_delay.idxmax())\n",
    "print(delay.dep_delay.idxmax())\n",
    "\n"
   ]
  },
  {
   "cell_type": "markdown",
   "metadata": {},
   "source": [
    "2013-03-08 has the largest average depature delay and the largest arrival delay. "
   ]
  },
  {
   "cell_type": "markdown",
   "metadata": {},
   "source": [
    "(b) What was the worst day to fly out of NYC in 2013 if you dislike delayed flights? This one has a few interpretations, just justify what you thought!\n"
   ]
  },
  {
   "cell_type": "code",
   "execution_count": 226,
   "metadata": {},
   "outputs": [
    {
     "data": {
      "text/html": [
       "<div>\n",
       "<style scoped>\n",
       "    .dataframe tbody tr th:only-of-type {\n",
       "        vertical-align: middle;\n",
       "    }\n",
       "\n",
       "    .dataframe tbody tr th {\n",
       "        vertical-align: top;\n",
       "    }\n",
       "\n",
       "    .dataframe thead th {\n",
       "        text-align: right;\n",
       "    }\n",
       "</style>\n",
       "<table border=\"1\" class=\"dataframe\">\n",
       "  <thead>\n",
       "    <tr style=\"text-align: right;\">\n",
       "      <th></th>\n",
       "      <th>date</th>\n",
       "      <th>Unnamed: 0</th>\n",
       "    </tr>\n",
       "  </thead>\n",
       "  <tbody>\n",
       "    <tr>\n",
       "      <th>356</th>\n",
       "      <td>2013-12-23</td>\n",
       "      <td>674</td>\n",
       "    </tr>\n",
       "    <tr>\n",
       "      <th>66</th>\n",
       "      <td>2013-03-08</td>\n",
       "      <td>653</td>\n",
       "    </tr>\n",
       "    <tr>\n",
       "      <th>181</th>\n",
       "      <td>2013-07-01</td>\n",
       "      <td>652</td>\n",
       "    </tr>\n",
       "    <tr>\n",
       "      <th>175</th>\n",
       "      <td>2013-06-25</td>\n",
       "      <td>649</td>\n",
       "    </tr>\n",
       "    <tr>\n",
       "      <th>203</th>\n",
       "      <td>2013-07-23</td>\n",
       "      <td>645</td>\n",
       "    </tr>\n",
       "    <tr>\n",
       "      <th>...</th>\n",
       "      <td>...</td>\n",
       "      <td>...</td>\n",
       "    </tr>\n",
       "    <tr>\n",
       "      <th>301</th>\n",
       "      <td>2013-10-29</td>\n",
       "      <td>143</td>\n",
       "    </tr>\n",
       "    <tr>\n",
       "      <th>312</th>\n",
       "      <td>2013-11-09</td>\n",
       "      <td>141</td>\n",
       "    </tr>\n",
       "    <tr>\n",
       "      <th>291</th>\n",
       "      <td>2013-10-19</td>\n",
       "      <td>135</td>\n",
       "    </tr>\n",
       "    <tr>\n",
       "      <th>332</th>\n",
       "      <td>2013-11-29</td>\n",
       "      <td>131</td>\n",
       "    </tr>\n",
       "    <tr>\n",
       "      <th>305</th>\n",
       "      <td>2013-11-02</td>\n",
       "      <td>129</td>\n",
       "    </tr>\n",
       "  </tbody>\n",
       "</table>\n",
       "<p>365 rows × 2 columns</p>\n",
       "</div>"
      ],
      "text/plain": [
       "          date  Unnamed: 0\n",
       "356 2013-12-23         674\n",
       "66  2013-03-08         653\n",
       "181 2013-07-01         652\n",
       "175 2013-06-25         649\n",
       "203 2013-07-23         645\n",
       "..         ...         ...\n",
       "301 2013-10-29         143\n",
       "312 2013-11-09         141\n",
       "291 2013-10-19         135\n",
       "332 2013-11-29         131\n",
       "305 2013-11-02         129\n",
       "\n",
       "[365 rows x 2 columns]"
      ]
     },
     "execution_count": 226,
     "metadata": {},
     "output_type": "execute_result"
    }
   ],
   "source": [
    "# Your code here\n",
    "#find day with the most number of depature delayed flights\n",
    "\n",
    "#filter the df to dep_delay above 0\n",
    "dep_delay_1= flights_df[flights_df['dep_delay']>0]\n",
    "\n",
    "#group the data by date and count the number\n",
    "dep_delay_date= dep_delay_1.groupby('date', as_index= False)['Unnamed: 0'].count()\n",
    "\n",
    "#sort the count value from highest to lowest\n",
    "dep_delay_date.sort_values(by= ['Unnamed: 0'], ascending= False)"
   ]
  },
  {
   "cell_type": "markdown",
   "metadata": {},
   "source": [
    "2013-12-23 is the worst day to fly out of NYC in 2013 since it has the highest number of delayed depature flights of 674. "
   ]
  },
  {
   "cell_type": "markdown",
   "metadata": {},
   "source": [
    "(c) Are there any seasonal patterns in departure delays for flights from NYC?"
   ]
  },
  {
   "cell_type": "code",
   "execution_count": 111,
   "metadata": {},
   "outputs": [
    {
     "data": {
      "text/html": [
       "<div>\n",
       "<style scoped>\n",
       "    .dataframe tbody tr th:only-of-type {\n",
       "        vertical-align: middle;\n",
       "    }\n",
       "\n",
       "    .dataframe tbody tr th {\n",
       "        vertical-align: top;\n",
       "    }\n",
       "\n",
       "    .dataframe thead th {\n",
       "        text-align: right;\n",
       "    }\n",
       "</style>\n",
       "<table border=\"1\" class=\"dataframe\">\n",
       "  <thead>\n",
       "    <tr style=\"text-align: right;\">\n",
       "      <th></th>\n",
       "      <th>dep_delay</th>\n",
       "    </tr>\n",
       "    <tr>\n",
       "      <th>season</th>\n",
       "      <th></th>\n",
       "    </tr>\n",
       "  </thead>\n",
       "  <tbody>\n",
       "    <tr>\n",
       "      <th>fall</th>\n",
       "      <td>6.136711</td>\n",
       "    </tr>\n",
       "    <tr>\n",
       "      <th>spring</th>\n",
       "      <td>13.380705</td>\n",
       "    </tr>\n",
       "    <tr>\n",
       "      <th>summer</th>\n",
       "      <td>18.334437</td>\n",
       "    </tr>\n",
       "    <tr>\n",
       "      <th>winter</th>\n",
       "      <td>12.569983</td>\n",
       "    </tr>\n",
       "  </tbody>\n",
       "</table>\n",
       "</div>"
      ],
      "text/plain": [
       "        dep_delay\n",
       "season           \n",
       "fall     6.136711\n",
       "spring  13.380705\n",
       "summer  18.334437\n",
       "winter  12.569983"
      ]
     },
     "execution_count": 111,
     "metadata": {},
     "output_type": "execute_result"
    }
   ],
   "source": [
    "# Your code here\n",
    "\n",
    "#create a new column season \n",
    "#create a list of conditions\n",
    "conditions=[\n",
    "(flights_df['month']==12) | (flights_df['month']==1) |(flights_df['month']==2),\n",
    "(flights_df['month']>=3) & (flights_df['month']<=5),\n",
    "(flights_df['month']>=6) & (flights_df['month']<=8),\n",
    "(flights_df['month']>=9) & (flights_df['month']<=11)\n",
    "]\n",
    "\n",
    "#create a list of values we want to assign for each condition\n",
    "values= ['winter', 'spring', 'summer', 'fall']\n",
    "\n",
    "#create a new column and use np.select to assign values\n",
    "flights_df['season']= np.select(conditions, values)\n",
    "\n",
    "#show the df\n",
    "flights_df.head()\n",
    "\n",
    "#calculate the average depature delay for each season\n",
    "flights_df.groupby('season').agg({\n",
    "    'dep_delay':'mean'    \n",
    "})"
   ]
  },
  {
   "cell_type": "markdown",
   "metadata": {},
   "source": [
    "In 2013, summer has the longest depature delay of approximately 18.33 minutes, while fall has the shortest departure delay of approximately 6.14 minutes. "
   ]
  },
  {
   "cell_type": "markdown",
   "metadata": {},
   "source": [
    "(d) On average, how do departure delays vary over the course of a day? Make a graph."
   ]
  },
  {
   "cell_type": "code",
   "execution_count": 112,
   "metadata": {},
   "outputs": [
    {
     "data": {
      "image/png": "[encoded data removed]",
      "text/plain": [
       "<Figure size 432x288 with 1 Axes>"
      ]
     },
     "metadata": {
      "needs_background": "light"
     },
     "output_type": "display_data"
    }
   ],
   "source": [
    "# Your code here\n",
    "#calculate the average depature delay group by the course of a day\n",
    "dep_delay_by_hour= flights_df.groupby('hour', as_index= False)['dep_delay'].mean()\n",
    "\n",
    "#create bar plot\n",
    "plt.bar(dep_delay_by_hour.hour,dep_delay_by_hour.dep_delay)\n",
    "plt.title('Average Depature Delay (Mins) By Hour')\n",
    "plt.xlabel('Hour of Day')\n",
    "plt.ylabel('Average Depature Delay')\n",
    "plt.show()"
   ]
  },
  {
   "cell_type": "markdown",
   "metadata": {},
   "source": [
    "The bar chart shows that on average 12-4 AM have long departure delay, while 6AM to 9AM on average have no or very short departure delay. "
   ]
  },
  {
   "cell_type": "markdown",
   "metadata": {},
   "source": [
    "## Question 3\n",
    "    Which flight departing NYC in 2013 flew the slowest?"
   ]
  },
  {
   "cell_type": "code",
   "execution_count": 113,
   "metadata": {},
   "outputs": [
    {
     "data": {
      "text/plain": [
       "1860"
      ]
     },
     "execution_count": 113,
     "metadata": {},
     "output_type": "execute_result"
    }
   ],
   "source": [
    "# Your code here\n",
    "\n",
    "#create new column speed\n",
    "flights_df['speed']= flights_df['distance']/flights_df['air_time']\n",
    "\n",
    "#find the index of the minimum speed\n",
    "index= flights_df['speed'].idxmin()\n",
    "\n",
    "#use the index to find the flight\n",
    "flights_df.flight[index]"
   ]
  },
  {
   "cell_type": "markdown",
   "metadata": {},
   "source": [
    "Flight 1860 flew the slowest, in other words, it has the lowest speed. "
   ]
  },
  {
   "cell_type": "markdown",
   "metadata": {},
   "source": [
    "## Question 4\n",
    "Which flights (i.e. carrier + flight + dest) happen every day? Where do they fly to?"
   ]
  },
  {
   "cell_type": "code",
   "execution_count": 153,
   "metadata": {},
   "outputs": [
    {
     "name": "stderr",
     "output_type": "stream",
     "text": [
      "/Users/ruizhewang/opt/anaconda3/lib/python3.8/site-packages/pandas/core/frame.py:3641: SettingWithCopyWarning: \n",
      "A value is trying to be set on a copy of a slice from a DataFrame.\n",
      "Try using .loc[row_indexer,col_indexer] = value instead\n",
      "\n",
      "See the caveats in the documentation: https://pandas.pydata.org/pandas-docs/stable/user_guide/indexing.html#returning-a-view-versus-a-copy\n",
      "  self[k1] = value[k2]\n"
     ]
    },
    {
     "data": {
      "text/html": [
       "<div>\n",
       "<style scoped>\n",
       "    .dataframe tbody tr th:only-of-type {\n",
       "        vertical-align: middle;\n",
       "    }\n",
       "\n",
       "    .dataframe tbody tr th {\n",
       "        vertical-align: top;\n",
       "    }\n",
       "\n",
       "    .dataframe thead th {\n",
       "        text-align: right;\n",
       "    }\n",
       "</style>\n",
       "<table border=\"1\" class=\"dataframe\">\n",
       "  <thead>\n",
       "    <tr style=\"text-align: right;\">\n",
       "      <th></th>\n",
       "      <th>flights_info</th>\n",
       "      <th>date</th>\n",
       "      <th>count</th>\n",
       "      <th>carrier</th>\n",
       "      <th>flight</th>\n",
       "      <th>destination</th>\n",
       "    </tr>\n",
       "  </thead>\n",
       "  <tbody>\n",
       "    <tr>\n",
       "      <th>790</th>\n",
       "      <td>AA 119 LAX</td>\n",
       "      <td>365</td>\n",
       "      <td>365</td>\n",
       "      <td>AA</td>\n",
       "      <td>119</td>\n",
       "      <td>LAX</td>\n",
       "    </tr>\n",
       "    <tr>\n",
       "      <th>801</th>\n",
       "      <td>AA 1357 SJU</td>\n",
       "      <td>365</td>\n",
       "      <td>365</td>\n",
       "      <td>AA</td>\n",
       "      <td>1357</td>\n",
       "      <td>SJU</td>\n",
       "    </tr>\n",
       "    <tr>\n",
       "      <th>813</th>\n",
       "      <td>AA 1611 MIA</td>\n",
       "      <td>365</td>\n",
       "      <td>365</td>\n",
       "      <td>AA</td>\n",
       "      <td>1611</td>\n",
       "      <td>MIA</td>\n",
       "    </tr>\n",
       "    <tr>\n",
       "      <th>842</th>\n",
       "      <td>AA 181 LAX</td>\n",
       "      <td>365</td>\n",
       "      <td>365</td>\n",
       "      <td>AA</td>\n",
       "      <td>181</td>\n",
       "      <td>LAX</td>\n",
       "    </tr>\n",
       "    <tr>\n",
       "      <th>941</th>\n",
       "      <td>AA 59 SFO</td>\n",
       "      <td>365</td>\n",
       "      <td>365</td>\n",
       "      <td>AA</td>\n",
       "      <td>59</td>\n",
       "      <td>SFO</td>\n",
       "    </tr>\n",
       "    <tr>\n",
       "      <th>1130</th>\n",
       "      <td>B6 1783 MCO</td>\n",
       "      <td>365</td>\n",
       "      <td>365</td>\n",
       "      <td>B6</td>\n",
       "      <td>1783</td>\n",
       "      <td>MCO</td>\n",
       "    </tr>\n",
       "    <tr>\n",
       "      <th>1178</th>\n",
       "      <td>B6 219 CLT</td>\n",
       "      <td>365</td>\n",
       "      <td>365</td>\n",
       "      <td>B6</td>\n",
       "      <td>219</td>\n",
       "      <td>CLT</td>\n",
       "    </tr>\n",
       "    <tr>\n",
       "      <th>1241</th>\n",
       "      <td>B6 359 BUR</td>\n",
       "      <td>365</td>\n",
       "      <td>365</td>\n",
       "      <td>B6</td>\n",
       "      <td>359</td>\n",
       "      <td>BUR</td>\n",
       "    </tr>\n",
       "    <tr>\n",
       "      <th>1246</th>\n",
       "      <td>B6 371 FLL</td>\n",
       "      <td>365</td>\n",
       "      <td>365</td>\n",
       "      <td>B6</td>\n",
       "      <td>371</td>\n",
       "      <td>FLL</td>\n",
       "    </tr>\n",
       "    <tr>\n",
       "      <th>1272</th>\n",
       "      <td>B6 431 SRQ</td>\n",
       "      <td>365</td>\n",
       "      <td>365</td>\n",
       "      <td>B6</td>\n",
       "      <td>431</td>\n",
       "      <td>SRQ</td>\n",
       "    </tr>\n",
       "    <tr>\n",
       "      <th>1362</th>\n",
       "      <td>B6 703 SJU</td>\n",
       "      <td>365</td>\n",
       "      <td>365</td>\n",
       "      <td>B6</td>\n",
       "      <td>703</td>\n",
       "      <td>SJU</td>\n",
       "    </tr>\n",
       "    <tr>\n",
       "      <th>1735</th>\n",
       "      <td>DL 2159 MCO</td>\n",
       "      <td>365</td>\n",
       "      <td>365</td>\n",
       "      <td>DL</td>\n",
       "      <td>2159</td>\n",
       "      <td>MCO</td>\n",
       "    </tr>\n",
       "    <tr>\n",
       "      <th>1805</th>\n",
       "      <td>DL 2391 TPA</td>\n",
       "      <td>365</td>\n",
       "      <td>365</td>\n",
       "      <td>DL</td>\n",
       "      <td>2391</td>\n",
       "      <td>TPA</td>\n",
       "    </tr>\n",
       "    <tr>\n",
       "      <th>4631</th>\n",
       "      <td>EV 5712 IAD</td>\n",
       "      <td>365</td>\n",
       "      <td>365</td>\n",
       "      <td>EV</td>\n",
       "      <td>5712</td>\n",
       "      <td>IAD</td>\n",
       "    </tr>\n",
       "    <tr>\n",
       "      <th>6561</th>\n",
       "      <td>UA 15 HNL</td>\n",
       "      <td>365</td>\n",
       "      <td>365</td>\n",
       "      <td>UA</td>\n",
       "      <td>15</td>\n",
       "      <td>HNL</td>\n",
       "    </tr>\n",
       "    <tr>\n",
       "      <th>10605</th>\n",
       "      <td>VX 251 LAS</td>\n",
       "      <td>365</td>\n",
       "      <td>365</td>\n",
       "      <td>VX</td>\n",
       "      <td>251</td>\n",
       "      <td>LAS</td>\n",
       "    </tr>\n",
       "    <tr>\n",
       "      <th>10609</th>\n",
       "      <td>VX 407 LAX</td>\n",
       "      <td>365</td>\n",
       "      <td>365</td>\n",
       "      <td>VX</td>\n",
       "      <td>407</td>\n",
       "      <td>LAX</td>\n",
       "    </tr>\n",
       "    <tr>\n",
       "      <th>10613</th>\n",
       "      <td>VX 413 LAX</td>\n",
       "      <td>365</td>\n",
       "      <td>365</td>\n",
       "      <td>VX</td>\n",
       "      <td>413</td>\n",
       "      <td>LAX</td>\n",
       "    </tr>\n",
       "  </tbody>\n",
       "</table>\n",
       "</div>"
      ],
      "text/plain": [
       "      flights_info  date  count carrier flight destination\n",
       "790     AA 119 LAX   365    365      AA    119         LAX\n",
       "801    AA 1357 SJU   365    365      AA   1357         SJU\n",
       "813    AA 1611 MIA   365    365      AA   1611         MIA\n",
       "842     AA 181 LAX   365    365      AA    181         LAX\n",
       "941      AA 59 SFO   365    365      AA     59         SFO\n",
       "1130   B6 1783 MCO   365    365      B6   1783         MCO\n",
       "1178    B6 219 CLT   365    365      B6    219         CLT\n",
       "1241    B6 359 BUR   365    365      B6    359         BUR\n",
       "1246    B6 371 FLL   365    365      B6    371         FLL\n",
       "1272    B6 431 SRQ   365    365      B6    431         SRQ\n",
       "1362    B6 703 SJU   365    365      B6    703         SJU\n",
       "1735   DL 2159 MCO   365    365      DL   2159         MCO\n",
       "1805   DL 2391 TPA   365    365      DL   2391         TPA\n",
       "4631   EV 5712 IAD   365    365      EV   5712         IAD\n",
       "6561     UA 15 HNL   365    365      UA     15         HNL\n",
       "10605   VX 251 LAS   365    365      VX    251         LAS\n",
       "10609   VX 407 LAX   365    365      VX    407         LAX\n",
       "10613   VX 413 LAX   365    365      VX    413         LAX"
      ]
     },
     "execution_count": 153,
     "metadata": {},
     "output_type": "execute_result"
    }
   ],
   "source": [
    "# Your code here\n",
    "\n",
    "#create new column flight_info\n",
    "flights_df['flights_info']= flights_df['carrier'] + \" \" + flights_df['flight'].astype(str)+ \" \" + flights_df['dest']\n",
    "\n",
    "#get the unique number of dates in the df\n",
    "unique_number_of_dates= len(flights_df.date.unique())\n",
    "\n",
    "#create a new df that group by flights info and date\n",
    "df1= flights_df.groupby(['flights_info', 'date'], as_index= False)['Unnamed: 0'].count()\n",
    "\n",
    "#rename Unnamed column as count\n",
    "df1.rename(columns= {'Unnamed: 0':'count'}, inplace= True)\n",
    "\n",
    "#group df1 by flights info and save as df2\n",
    "df2= df1.groupby('flights_info', as_index= False).count()\n",
    "\n",
    "#get the flights info that fly 365 days\n",
    "flights_365= df2[df2.date== 365]\n",
    "\n",
    "flights_365[['carrier', 'flight', 'destination']]= flights_365.flights_info.str.split(expand= True)\n",
    "\n",
    "flights_365"
   ]
  },
  {
   "cell_type": "markdown",
   "metadata": {},
   "source": [
    "The table above shows the flights that fly 365 days a year. The flights are AA 119, AA 1357, AA 1611, AA 181, AA 59, B6 1783, B6 219, B6 359, B6 371, B6 431, B6 703, DL 2159, DL 2391, EV 5712, UA 15, VX 251, VX 407, VX 413. The destinations are LAX, SJU, MIA, SFO, MCO, CLT, BUR, FLL, SRQ, TPA, IAD, HNL, and LAS.  "
   ]
  },
  {
   "cell_type": "markdown",
   "metadata": {},
   "source": [
    "## Question 5\n",
    "Develop one research question you can address using the nycflights2013 dataset. Provide two visualizations to support your exploration of this question. Discuss what you find.\n"
   ]
  },
  {
   "cell_type": "code",
   "execution_count": 187,
   "metadata": {},
   "outputs": [
    {
     "data": {
      "image/png": "[encoded data removed]",
      "text/plain": [
       "<Figure size 432x288 with 1 Axes>"
      ]
     },
     "metadata": {
      "needs_background": "light"
     },
     "output_type": "display_data"
    },
    {
     "data": {
      "text/plain": [
       "[Text(0.5, 0, 'Destination Airport'),\n",
       " Text(0, 0.5, 'Arrival Delay (Mins)'),\n",
       " Text(0.5, 1.0, 'Boxplot For Top 5 Destination Airports With the Longest Average Long Arrival Delay')]"
      ]
     },
     "execution_count": 187,
     "metadata": {},
     "output_type": "execute_result"
    },
    {
     "data": {
      "image/png": "[encoded data removed]",
      "text/plain": [
       "<Figure size 432x288 with 1 Axes>"
      ]
     },
     "metadata": {
      "needs_background": "light"
     },
     "output_type": "display_data"
    }
   ],
   "source": [
    "# Your code here\n",
    "\n",
    "import seaborn as sns\n",
    "\n",
    "#filter the df with arrival delay above 120 minutes\n",
    "arr_long_delay= flights_df[flights_df.arr_delay>=120]\n",
    "\n",
    "#get the average long arrival delay time by each destination airport\n",
    "#sort by average delay time from largest to smallest\n",
    "avg_long_delay= arr_long_delay.groupby('dest', as_index= False)['arr_delay'].mean().sort_values('arr_delay', ascending= False)\n",
    "\n",
    "#rename the column\n",
    "avg_long_delay.rename(columns= {'arr_delay':'avg_arr_delay'}, inplace= True)\n",
    "\n",
    "#get the top 5 desination\n",
    "top5_dest= avg_long_delay[:5]\n",
    "\n",
    "#create bar chart using top5_dest\n",
    "plt.bar(top5_dest.dest, top5_dest.avg_arr_delay)\n",
    "plt.title('Top 5 Destination Airports With the Longest Average Long Arrival Delay')\n",
    "plt.xlabel('Destination Airport')\n",
    "plt.ylabel('Average Long Arrival Delay (Mins)')\n",
    "plt.show()\n",
    "\n",
    "#get the destination from the top5_dest df\n",
    "dest_airport= top5_dest.dest\n",
    "\n",
    "#select rows from arr_long_delay df based on condition\n",
    "long_delay_top_5= arr_long_delay[arr_long_delay['dest'].isin(dest_airport)]\n",
    "\n",
    "#create boxplot for long_delay_top_5 df\n",
    "sns.boxplot(data= long_delay_top_5, \n",
    "            x='dest', \n",
    "            y='arr_delay'). set(xlabel= 'Destination Airport',\n",
    "                                ylabel= 'Arrival Delay (Mins)',\n",
    "                                title= 'Boxplot For Top 5 Destination Airports With the Longest Average Long Arrival Delay'\n",
    "                               )"
   ]
  },
  {
   "cell_type": "markdown",
   "metadata": {},
   "source": [
    "I would like to explore the average long delay time for each destination airport. Long delay can be defined as any arrival delay above 120 minutes (2 hours). I used bar chart and boxplot to support my research question. The bar chart shows the top 5 destination airports and its corresponding arrival delay time. We can see that HNL, CHO, CAK, SLC and MYR have the longest long arrival delay. They all have average arrival delay of more than 200 minutes. The boxplot shows the distribution of long arrival delay time for the top 5 airports. From the chart we can see that HNL, SLC, and CAK have outliers and the outliers may skew the mean of arrival delay for those airports. "
   ]
  },
  {
   "cell_type": "markdown",
   "metadata": {},
   "source": [
    "## Question 6\n",
    "What weather conditions are associated with flight delays leaving NYC? Use graphics to explore. Explain your findings."
   ]
  },
  {
   "cell_type": "code",
   "execution_count": 218,
   "metadata": {},
   "outputs": [
    {
     "name": "stdout",
     "output_type": "stream",
     "text": [
      "(8719, 15)\n",
      "Index(['Unnamed: 0', 'origin', 'year', 'month', 'day', 'hour', 'temp', 'dewp',\n",
      "       'humid', 'wind_dir', 'wind_speed', 'wind_gust', 'precip', 'pressure',\n",
      "       'visib'],\n",
      "      dtype='object')\n",
      "Unnamed: 0      int64\n",
      "origin         object\n",
      "year            int64\n",
      "month         float64\n",
      "day           float64\n",
      "hour          float64\n",
      "temp          float64\n",
      "dewp          float64\n",
      "humid         float64\n",
      "wind_dir      float64\n",
      "wind_speed    float64\n",
      "wind_gust     float64\n",
      "precip        float64\n",
      "pressure      float64\n",
      "visib         float64\n",
      "dtype: object\n",
      "   Unnamed: 0 origin  year  month  day  hour   temp   dewp  humid  wind_dir  \\\n",
      "0           1    EWR  2013    1.0  1.0   0.0  37.04  21.92  53.97     230.0   \n",
      "1           2    EWR  2013    1.0  1.0   1.0  37.04  21.92  53.97     230.0   \n",
      "2           3    EWR  2013    1.0  1.0   2.0  37.94  21.92  52.09     230.0   \n",
      "3           4    EWR  2013    1.0  1.0   3.0  37.94  23.00  54.51     230.0   \n",
      "4           5    EWR  2013    1.0  1.0   4.0  37.94  24.08  57.04     240.0   \n",
      "\n",
      "   wind_speed  wind_gust  precip  pressure  visib  \n",
      "0    10.35702  11.918651     0.0    1013.9   10.0  \n",
      "1    13.80936  15.891535     0.0    1013.0   10.0  \n",
      "2    12.65858  14.567241     0.0    1012.6   10.0  \n",
      "3    13.80936  15.891535     0.0    1012.7   10.0  \n",
      "4    14.96014  17.215830     0.0    1012.8   10.0  \n"
     ]
    },
    {
     "data": {
      "image/png": "[encoded data removed]",
      "text/plain": [
       "<Figure size 432x288 with 1 Axes>"
      ]
     },
     "metadata": {
      "needs_background": "light"
     },
     "output_type": "display_data"
    },
    {
     "data": {
      "image/png": "[encoded data removed]",
      "text/plain": [
       "<Figure size 432x288 with 1 Axes>"
      ]
     },
     "metadata": {
      "needs_background": "light"
     },
     "output_type": "display_data"
    },
    {
     "data": {
      "image/png": "[encoded data removed]",
      "text/plain": [
       "<Figure size 432x288 with 1 Axes>"
      ]
     },
     "metadata": {
      "needs_background": "light"
     },
     "output_type": "display_data"
    },
    {
     "data": {
      "image/png": "[encoded data removed]",
      "text/plain": [
       "<Figure size 432x288 with 1 Axes>"
      ]
     },
     "metadata": {
      "needs_background": "light"
     },
     "output_type": "display_data"
    },
    {
     "data": {
      "image/png": "[encoded data removed]",
      "text/plain": [
       "<Figure size 432x288 with 1 Axes>"
      ]
     },
     "metadata": {
      "needs_background": "light"
     },
     "output_type": "display_data"
    },
    {
     "data": {
      "image/png": "[encoded data removed]",
      "text/plain": [
       "<Figure size 432x288 with 1 Axes>"
      ]
     },
     "metadata": {
      "needs_background": "light"
     },
     "output_type": "display_data"
    },
    {
     "data": {
      "image/png": "[encoded data removed]",
      "text/plain": [
       "<Figure size 432x288 with 1 Axes>"
      ]
     },
     "metadata": {
      "needs_background": "light"
     },
     "output_type": "display_data"
    },
    {
     "data": {
      "image/png": "[encoded data removed]",
      "text/plain": [
       "<Figure size 432x288 with 1 Axes>"
      ]
     },
     "metadata": {
      "needs_background": "light"
     },
     "output_type": "display_data"
    },
    {
     "data": {
      "image/png": "[encoded data removed]",
      "text/plain": [
       "<Figure size 432x288 with 1 Axes>"
      ]
     },
     "metadata": {
      "needs_background": "light"
     },
     "output_type": "display_data"
    }
   ],
   "source": [
    "# Your code here\n",
    "#load the weather dataset\n",
    "weather= pd.read_csv('/Users/ruizhewang/Downloads/weather.csv')\n",
    "\n",
    "#inspect the weather df\n",
    "print (weather.shape)   # rows and columns\n",
    "print (weather.columns) # column names\n",
    "print (weather.dtypes)  # data types of each column\n",
    "print(weather.head()) #first few rows of the df\n",
    "\n",
    "\n",
    "#join the weather with flights_df by origin, year, month, day and hour\n",
    "merged= pd.merge(flights_df, weather,\n",
    "         how= 'inner', on= ['origin', 'year', 'month', 'day', 'hour'])\n",
    "\n",
    "#check the merged df\n",
    "merged.head()\n",
    "\n",
    "#create scatter plot for dep_delay and temp\n",
    "plt.plot(merged.temp, \n",
    "         merged.dep_delay,\n",
    "         'o',\n",
    "        color= 'blue')\n",
    "plt.xlabel('Temperature(F)')\n",
    "plt.ylabel('Depature Delay')\n",
    "plt.title('Relationship Between Temperature & Depature Delay')\n",
    "plt.show()\n",
    "\n",
    "#create scatter plot for dep_delay and dewp\n",
    "plt.plot(merged.dewp, \n",
    "         merged.dep_delay,\n",
    "         'o',\n",
    "        color= 'black')\n",
    "plt.xlabel('Dew Point(F)')\n",
    "plt.ylabel('Depature Delay')\n",
    "plt.title('Relationship Between Dew Point & Depature Delay')\n",
    "plt.show()\n",
    "\n",
    "#create scatter plot for dep_delay and humid\n",
    "plt.plot(merged.humid, \n",
    "         merged.dep_delay,\n",
    "         'o',\n",
    "        color= 'grey')\n",
    "plt.xlabel('Relative Humidity')\n",
    "plt.ylabel('Depature Delay')\n",
    "plt.title('Relationship Between Relative Humidity & Depature Delay')\n",
    "plt.show()\n",
    "\n",
    "#create scatter plot for dep_delay and wind direction\n",
    "plt.plot(merged.wind_dir, \n",
    "         merged.dep_delay,\n",
    "         'o',\n",
    "        color= 'yellow')\n",
    "plt.xlabel('Wind Direction')\n",
    "plt.ylabel('Depature Delay')\n",
    "plt.title('Relationship Between Wind Direction & Depature Delay')\n",
    "plt.show()\n",
    "\n",
    "#create scatter plot for dep_delay and wind speed\n",
    "plt.plot(merged.wind_speed, \n",
    "         merged.dep_delay,\n",
    "         'o',\n",
    "        color= 'orange')\n",
    "plt.xlabel('Wind Speed')\n",
    "plt.ylabel('Depature Delay')\n",
    "plt.title('Relationship Between Wind Speed & Depature Delay')\n",
    "plt.show()\n",
    "\n",
    "#create scatter plot for dep_delay and wind gust\n",
    "plt.plot(merged.wind_gust, \n",
    "         merged.dep_delay,\n",
    "         'o',\n",
    "        color= 'red')\n",
    "plt.xlabel('Wind Gust')\n",
    "plt.ylabel('Depature Delay')\n",
    "plt.title('Relationship Between Wind Gust & Depature Delay')\n",
    "plt.show()\n",
    "\n",
    "#create scatter plot for dep_delay and precipitation\n",
    "plt.plot(merged.precip, \n",
    "         merged.dep_delay,\n",
    "         'o',\n",
    "        color= 'lightblue')\n",
    "plt.xlabel('Precipitation')\n",
    "plt.ylabel('Depature Delay')\n",
    "plt.title('Relationship Between Precipitation & Depature Delay')\n",
    "plt.show()\n",
    "\n",
    "#create scatter plot for dep_delay and pressure\n",
    "plt.plot(merged.pressure, \n",
    "         merged.dep_delay,\n",
    "         'o',\n",
    "        color= 'purple')\n",
    "plt.xlabel('Pressure')\n",
    "plt.ylabel('Depature Delay')\n",
    "plt.title('Relationship Between Pressure & Depature Delay')\n",
    "plt.show()\n",
    "\n",
    "#create scatter plot for dep_delay and visibility\n",
    "plt.plot(merged.visib, \n",
    "         merged.dep_delay,\n",
    "         'o',\n",
    "        color= 'darkgrey')\n",
    "plt.xlabel('Visibility')\n",
    "plt.ylabel('Depature Delay')\n",
    "plt.title('Relationship Between Visibility & Depature Delay')\n",
    "plt.show()"
   ]
  },
  {
   "cell_type": "markdown",
   "metadata": {},
   "source": [
    "I first combine the weather dataset with the flights dataset. I then create scatterplot to explore the relationship between weather conditions and the depature delay. From the graphs, I found that temperature, dew Point, relative humidity and visibility might be correlated with the depature delay. To further answer questions, regression analysis is needed. "
   ]
  }
 ],
 "metadata": {
  "kernelspec": {
   "display_name": "Python 3 (ipykernel)",
   "language": "python",
   "name": "python3"
  },
  "language_info": {
   "codemirror_mode": {
    "name": "ipython",
    "version": 3
   },
   "file_extension": ".py",
   "mimetype": "text/x-python",
   "name": "python",
   "nbconvert_exporter": "python",
   "pygments_lexer": "ipython3",
   "version": "3.8.8"
  }
 },
 "nbformat": 4,
 "nbformat_minor": 4
}
