{
 "cells": [
  {
   "cell_type": "code",
   "execution_count": 354,
   "metadata": {},
   "outputs": [],
   "source": [
    "#import libraries\n",
    "import pandas as pd \n",
    "import numpy as np\n",
    "import scipy.sparse as sparse\n",
    "import time\n",
    "start_time= time.time()"
   ]
  },
  {
   "cell_type": "markdown",
   "metadata": {},
   "source": [
    "Step 1. Load links dataset "
   ]
  },
  {
   "cell_type": "code",
   "execution_count": 355,
   "metadata": {},
   "outputs": [],
   "source": [
    "#load the links data\n",
    "links = np.loadtxt('/Users/ruizhewang/Downloads/links.txt', delimiter=\",\", unpack=True)\n",
    "\n",
    "#unpack your array\n",
    "Journal_ID_1, Journal_ID_2, Number_of_citations = links[::]"
   ]
  },
  {
   "cell_type": "code",
   "execution_count": 356,
   "metadata": {},
   "outputs": [
    {
     "data": {
      "text/plain": [
       "array([[ 758, 1476,    5],\n",
       "       [ 758,  758,  150],\n",
       "       [ 758, 5938,    3],\n",
       "       ...,\n",
       "       [9742, 7940,    1],\n",
       "       [9742, 7744,    1],\n",
       "       [9742, 5130,    0]])"
      ]
     },
     "execution_count": 356,
     "metadata": {},
     "output_type": "execute_result"
    }
   ],
   "source": [
    "#zip the array\n",
    "links_1= np.array(list(zip(Journal_ID_1, Journal_ID_2, Number_of_citations)))\n",
    "\n",
    "#convert the data to integer\n",
    "links_1 = links_1.astype(int)\n",
    "\n",
    "links_1"
   ]
  },
  {
   "cell_type": "markdown",
   "metadata": {},
   "source": [
    "Step 2. Creating an Adjacency Matrix"
   ]
  },
  {
   "cell_type": "code",
   "execution_count": 357,
   "metadata": {},
   "outputs": [
    {
     "data": {
      "text/plain": [
       "matrix([[  34,    0,    0, ...,    0,    0,    0],\n",
       "        [   0,   21,    0, ...,    0,    0,    0],\n",
       "        [   0,    0, 1594, ...,    0,    0,    0],\n",
       "        ...,\n",
       "        [   0,    0,    0, ...,   20,    0,    0],\n",
       "        [   0,    0,    0, ...,    0,    0,    0],\n",
       "        [   0,    0,    0, ...,    0,    0,   40]])"
      ]
     },
     "execution_count": 357,
     "metadata": {},
     "output_type": "execute_result"
    }
   ],
   "source": [
    "#source: https://stackoverflow.com/questions/29146892/numpy-scipy-build-adjacency-matrix-from-weighted-edgelist?rq=1\n",
    "#create adjacency matrix for links data\n",
    "shape = tuple(links_1.max(axis=0)[:2]+1)\n",
    "coo = sparse.coo_matrix((links_1[:, 2], (links_1[:, 1], links_1[:, 0])), shape=shape,\n",
    "                        dtype=links_1.dtype)\n",
    "\n",
    "adj_matrix= coo.todense()\n",
    "\n",
    "#links data adjacency matrix output\n",
    "adj_matrix"
   ]
  },
  {
   "cell_type": "markdown",
   "metadata": {},
   "source": [
    "Step 3. Modifying the Adjacency Matrix"
   ]
  },
  {
   "cell_type": "code",
   "execution_count": 358,
   "metadata": {},
   "outputs": [
    {
     "data": {
      "text/plain": [
       "matrix([[0, 0, 0, ..., 0, 0, 0],\n",
       "        [0, 0, 0, ..., 0, 0, 0],\n",
       "        [0, 0, 0, ..., 0, 0, 0],\n",
       "        ...,\n",
       "        [0, 0, 0, ..., 0, 0, 0],\n",
       "        [0, 0, 0, ..., 0, 0, 0],\n",
       "        [0, 0, 0, ..., 0, 0, 0]])"
      ]
     },
     "execution_count": 358,
     "metadata": {},
     "output_type": "execute_result"
    }
   ],
   "source": [
    "#set the diagonal to zero\n",
    "np.fill_diagonal(adj_matrix,0)\n",
    "\n",
    "#links data adjacency matrix output\n",
    "adj_matrix"
   ]
  },
  {
   "cell_type": "code",
   "execution_count": 359,
   "metadata": {},
   "outputs": [
    {
     "name": "stderr",
     "output_type": "stream",
     "text": [
      "/var/folders/t2/zmbly_9n7f51psnv9pfcg4sc0000gn/T/ipykernel_7096/2233345946.py:5: RuntimeWarning: invalid value encountered in true_divide\n",
      "  matrix= matrix/col_sum\n"
     ]
    },
    {
     "data": {
      "text/plain": [
       "matrix([[0., 0., 0., ..., 0., 0., 0.],\n",
       "        [0., 0., 0., ..., 0., 0., 0.],\n",
       "        [0., 0., 0., ..., 0., 0., 0.],\n",
       "        ...,\n",
       "        [0., 0., 0., ..., 0., 0., 0.],\n",
       "        [0., 0., 0., ..., 0., 0., 0.],\n",
       "        [0., 0., 0., ..., 0., 0., 0.]])"
      ]
     },
     "execution_count": 359,
     "metadata": {},
     "output_type": "execute_result"
    }
   ],
   "source": [
    "#source: https://stackoverflow.com/questions/40200070/what-does-axis-0-do-in-numpys-sum-function\n",
    "#create function to normalize the adjacency matrix\n",
    "def normalize(matrix):\n",
    "    col_sum= matrix.sum(axis=0)\n",
    "    matrix= matrix/col_sum\n",
    "    return (matrix)\n",
    "\n",
    "old_H= normalize(adj_matrix)\n",
    "\n",
    "#replace all nan with 0\n",
    "H= np.nan_to_num(old_H)\n",
    "\n",
    "#links data normalized adjacency matrix output\n",
    "H\n",
    "\n"
   ]
  },
  {
   "cell_type": "markdown",
   "metadata": {},
   "source": [
    "Step 4. Identifying the Dangling Nodes"
   ]
  },
  {
   "cell_type": "code",
   "execution_count": 360,
   "metadata": {},
   "outputs": [
    {
     "data": {
      "text/plain": [
       "array([0., 0., 0., ..., 0., 0., 0.])"
      ]
     },
     "execution_count": 360,
     "metadata": {},
     "output_type": "execute_result"
    }
   ],
   "source": [
    "#identify the dangling nodes\n",
    "def dandlingNodes(matrix):\n",
    "    col_sum= np.array(matrix.sum(axis=0)) #get the sum for each column\n",
    "    col_sum= col_sum.flatten() #collapse into 1 dimension\n",
    "    d=[]\n",
    "    for i in range(len(col_sum)): #use for loop to replace the 0 with 1 and non-zeros with 0\n",
    "        if col_sum[i]== 0:\n",
    "            col_sum[i]= 1\n",
    "        else:\n",
    "            col_sum[i]= 0\n",
    "        d.append(col_sum[i])\n",
    "    return(d)\n",
    "\n",
    "#get the dangling nodes for matrix H\n",
    "d= np.array(dandlingNodes(H))\n",
    "\n",
    "##links data dangling nodes output\n",
    "\n",
    "d\n",
    "\n"
   ]
  },
  {
   "cell_type": "markdown",
   "metadata": {},
   "source": [
    "Step 5. Calculating the Stationary Vector"
   ]
  },
  {
   "cell_type": "code",
   "execution_count": 361,
   "metadata": {},
   "outputs": [
    {
     "data": {
      "text/plain": [
       "array([9.30405657e-05, 9.30405657e-05, 9.30405657e-05, ...,\n",
       "       9.30405657e-05, 9.30405657e-05, 9.30405657e-05])"
      ]
     },
     "execution_count": 361,
     "metadata": {},
     "output_type": "execute_result"
    }
   ],
   "source": [
    "#create the article vector \n",
    "def article(matrix):\n",
    "    length= len(matrix)\n",
    "    matrix= np.ones((length, 1))\n",
    "    matrix= matrix/matrix.sum(axis=0)\n",
    "    return(matrix)\n",
    "\n",
    "#convert into one dimension\n",
    "a= article(H).flatten()\n",
    "\n",
    "##links data article vector output\n",
    "a\n"
   ]
  },
  {
   "cell_type": "code",
   "execution_count": 362,
   "metadata": {},
   "outputs": [
    {
     "data": {
      "text/plain": [
       "array([[9.30405657e-05],\n",
       "       [9.30405657e-05],\n",
       "       [9.30405657e-05],\n",
       "       ...,\n",
       "       [9.30405657e-05],\n",
       "       [9.30405657e-05],\n",
       "       [9.30405657e-05]])"
      ]
     },
     "execution_count": 362,
     "metadata": {},
     "output_type": "execute_result"
    }
   ],
   "source": [
    "#create initial start vector\n",
    "def initialStartVector(matrix):\n",
    "    length= len(matrix) #get the length of matrix\n",
    "    array= np.full((length,1), 1) #fill the array with 1 by the number of times\n",
    "    pi_0= array/length #get pi 0 by dividing the array by length\n",
    "    return(pi_0)\n",
    "\n",
    "pi_0= np.array(initialStartVector(H))\n",
    "\n",
    "#links data pi_0 output\n",
    "pi_0\n"
   ]
  },
  {
   "cell_type": "code",
   "execution_count": 363,
   "metadata": {},
   "outputs": [
    {
     "name": "stdout",
     "output_type": "stream",
     "text": [
      "Number of Iterations to Converge: 22\n"
     ]
    }
   ],
   "source": [
    "#source: https://stackoverflow.com/questions/47934252/valueerror-shapes-1-1000-and-1-1000-not-aligned-1000-dim-1-1-dim-0/47934275\n",
    "#calculate the number of iterations to converge\n",
    "alpha= 0.85\n",
    "Epsilon= 0.00001\n",
    "iteration= 1\n",
    "residual= 3\n",
    "while (residual > Epsilon):\n",
    "    #calculate pi_1\n",
    "    #reshape the second part to the dimension same as the first part\n",
    "    pi_1 = (alpha * H * pi_0) + np.reshape((alpha * np.dot(d,pi_0) + (1 - alpha))*a, (10748,1), order= 'F')\n",
    "    #calculate the residual and apply L1 normalization\n",
    "    residual= np.linalg.norm (pi_1 - pi_0)\n",
    "    #count the number of iterations\n",
    "    iteration += 1\n",
    "    #convergence with pi_0 and pi_1\n",
    "    pi_0= pi_1\n",
    "\n",
    "#number of iternations to convert\n",
    "print('Number of Iterations to Converge:', iteration)"
   ]
  },
  {
   "cell_type": "markdown",
   "metadata": {},
   "source": [
    "Step 6. Calculationg the EigenFactor (EF) Score"
   ]
  },
  {
   "cell_type": "code",
   "execution_count": 364,
   "metadata": {},
   "outputs": [
    {
     "data": {
      "text/plain": [
       "array([[0.00346127],\n",
       "       [0.00150941],\n",
       "       [0.01572399],\n",
       "       ...,\n",
       "       [0.00310084],\n",
       "       [0.00011093],\n",
       "       [0.00261783]])"
      ]
     },
     "execution_count": 364,
     "metadata": {},
     "output_type": "execute_result"
    }
   ],
   "source": [
    "#calculate the eigenfactor scores\n",
    "def calEigenfactor(H, pi):\n",
    "    #calculate the eigenfactor scores and convert into array\n",
    "    EF= np.array(100*(np.dot(H, pi)/np.sum(np.dot(H,pi))))\n",
    "    return(EF)\n",
    "\n",
    "EigenfactorScores= calEigenfactor(H,pi_0)\n",
    "\n",
    "#links data eigenfactor scores output\n",
    "EigenfactorScores\n",
    "\n",
    "\n"
   ]
  },
  {
   "cell_type": "code",
   "execution_count": 365,
   "metadata": {},
   "outputs": [
    {
     "name": "stdout",
     "output_type": "stream",
     "text": [
      "[0.31121248 0.31659069 0.37262531 0.33019386 0.31919523 0.32730623\n",
      " 0.37952447 0.47758936 0.38598353 0.4396224  0.38504837 0.42962702\n",
      " 0.48060872 1.23460582 0.63425277 0.67933464 0.57686694 0.66469197\n",
      " 1.4475384  1.41203757]\n"
     ]
    }
   ],
   "source": [
    "#source: https://stackoverflow.com/questions/6910641/how-do-i-get-indices-of-n-maximum-values-in-a-numpy-array\n",
    "#get the index for the 10 largest elements\n",
    "index= np.argpartition(EigenfactorScores.flatten(), -20)[-20:]\n",
    "\n",
    "#use the index to find the top 10 eigenfactor scores \n",
    "top20Scores= EigenfactorScores.flatten()[index]\n",
    "print(top20Scores)"
   ]
  },
  {
   "cell_type": "code",
   "execution_count": 366,
   "metadata": {},
   "outputs": [
    {
     "name": "stdout",
     "output_type": "stream",
     "text": [
      "Time taken: 50.84 seconds\n"
     ]
    }
   ],
   "source": [
    "#get the total time to run the code\n",
    "print(\"Time taken: \" + str(round(time.time() - start_time,2)) + \" seconds\")"
   ]
  }
 ],
 "metadata": {
  "interpreter": {
   "hash": "1ed638f985b2e0f8d255f65f261e6185068cb7f6cda242c6390e0c7136c77f1a"
  },
  "kernelspec": {
   "display_name": "Python 3.8.5 ('ml574')",
   "language": "python",
   "name": "python3"
  },
  "language_info": {
   "codemirror_mode": {
    "name": "ipython",
    "version": 3
   },
   "file_extension": ".py",
   "mimetype": "text/x-python",
   "name": "python",
   "nbconvert_exporter": "python",
   "pygments_lexer": "ipython3",
   "version": "3.8.5"
  },
  "orig_nbformat": 4
 },
 "nbformat": 4,
 "nbformat_minor": 2
}
